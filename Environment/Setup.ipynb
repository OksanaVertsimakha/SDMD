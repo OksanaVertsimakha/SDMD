{
 "cells": [
  {
   "cell_type": "code",
   "execution_count": null,
   "id": "8ab89b87",
   "metadata": {},
   "outputs": [],
   "source": [
    "using Pkg\n",
    "Pkg.add(\"Random\")\n",
    "Pkg.add(\"Distributions\")\n",
    "Pkg.add(\"DataFrames\")\n",
    "Pkg.add(\"StatsBase\")\n",
    "Pkg.add(\"CairoMakie\")\n",
    "Pkg.add(\"ProgressMeter\")\n",
    "Pkg.add(\"PrettyTables\")\n",
    "Pkg.add(\"JLD2\")\n",
    "Pkg.add(\"Integrals\");"
   ]
  }
 ],
 "metadata": {
  "kernelspec": {
   "display_name": "Julia 1.10.1",
   "language": "julia",
   "name": "julia-1.10"
  },
  "language_info": {
   "file_extension": ".jl",
   "mimetype": "application/julia",
   "name": "julia",
   "version": "1.10.1"
  }
 },
 "nbformat": 4,
 "nbformat_minor": 5
}
